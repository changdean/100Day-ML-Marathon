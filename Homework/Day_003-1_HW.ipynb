{
 "cells": [
  {
   "cell_type": "markdown",
   "metadata": {},
   "source": [
    "## 練習時間\n",
    "在小量的資料上，我們用眼睛就可以看得出來程式碼是否有跑出我們理想中的結果\n",
    "\n",
    "請嘗試想像一個你需要的資料結構 (裡面的值可以是隨機的)，然後用上述的方法把它變成 pandas DataFrame\n",
    "\n",
    "#### Ex: 想像一個 dataframe 有兩個欄位，一個是國家，一個是人口，求人口數最多的國家\n",
    "\n",
    "### Hints: [隨機產生數值](https://blog.csdn.net/christianashannon/article/details/78867204)"
   ]
  },
  {
   "cell_type": "code",
   "execution_count": 1,
   "metadata": {},
   "outputs": [],
   "source": [
    "import pandas as pd\n",
    "import numpy as np"
   ]
  },
  {
   "cell_type": "code",
   "execution_count": 31,
   "metadata": {},
   "outputs": [
    {
     "name": "stdout",
     "output_type": "stream",
     "text": [
      "    國家       人口\n",
      "0   日本  3037370\n",
      "1   台灣  6349180\n",
      "2   南韓  7771534\n",
      "3  加拿大  2682906\n",
      "4  柬埔寨  9606597\n",
      "5   美國  5864020\n",
      "6   德國  2251904\n",
      "7   法國  9558381\n",
      "8   英國  1279660\n",
      "9   瑞典  2652443\n"
     ]
    }
   ],
   "source": [
    "########################################################\n",
    "###### 想像一個 dataframe 有兩個欄位，一個是國家，一個是人口，求人口數最多的國家\n",
    "########################################################\n",
    "\n",
    "## Step1. 建立一個一維陣列(N=10)，隨機給予0~10000000數值\n",
    "aPopulatoinArray = np.random.randint(10000000,size=10) ## randint(MaxInteger, arrayCount)\n",
    "\n",
    "## Step2. 建立一個一維陣列(N=10)，依序給予國家名稱\n",
    "aCountryArray = ['日本','台灣','南韓',\"加拿大\",\"柬埔寨\",\"美國\",\"德國\",\"法國\",\"英國\",\"瑞典\"]\n",
    "\n",
    "## Step3.合併 Step1, Step2 欄位成為一個dataframe \n",
    "Rawdata = {'國家': aCountryArray,\n",
    "        '人口': aPopulatoinArray}\n",
    "\n",
    "##Step4. 將資料集合給予 data \n",
    "sDataFrame = pd.DataFrame(Rawdata)\n",
    "\n",
    "##Step5. Output \n",
    "print(sDataFrame)"
   ]
  },
  {
   "cell_type": "code",
   "execution_count": 32,
   "metadata": {},
   "outputs": [
    {
     "name": "stdout",
     "output_type": "stream",
     "text": [
      "人口最多的國家為[ 柬埔寨 ]，人口數為[ 9606597 ]\n"
     ]
    }
   ],
   "source": [
    "highest_population_idx = sDataFrame['人口'].idxmax()\n",
    "print('人口最多的國家為[',sDataFrame['國家'].iloc[highest_population_idx],']，人口數為[' ,sDataFrame['人口'].iloc[highest_population_idx],']')"
   ]
  }
 ],
 "metadata": {
  "kernelspec": {
   "display_name": "Python 3",
   "language": "python",
   "name": "python3"
  },
  "language_info": {
   "codemirror_mode": {
    "name": "ipython",
    "version": 3
   },
   "file_extension": ".py",
   "mimetype": "text/x-python",
   "name": "python",
   "nbconvert_exporter": "python",
   "pygments_lexer": "ipython3",
   "version": "3.6.5"
  }
 },
 "nbformat": 4,
 "nbformat_minor": 2
}
